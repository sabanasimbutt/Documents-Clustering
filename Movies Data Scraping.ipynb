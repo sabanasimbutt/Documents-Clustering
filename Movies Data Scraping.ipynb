{
 "cells": [
  {
   "cell_type": "code",
   "execution_count": 1,
   "metadata": {},
   "outputs": [],
   "source": [
    "import urllib as u\n",
    "from bs4 import BeautifulSoup\n",
    "import pandas as pd\n",
    "import numpy as np"
   ]
  },
  {
   "cell_type": "code",
   "execution_count": null,
   "metadata": {},
   "outputs": [],
   "source": [
    "link= \"https://www.imdb.com/chart/top?ref_=nv_mv_250\"\n",
    "\n",
    "page= u.request.urlopen(link)\n",
    "\n",
    "soup=BeautifulSoup(page, \"lxml\")\n",
    "\n",
    "table= soup.find(\"tbody\", class_=\"lister-list\")"
   ]
  },
  {
   "cell_type": "code",
   "execution_count": 7,
   "metadata": {},
   "outputs": [
    {
     "name": "stdout",
     "output_type": "stream",
     "text": [
      "Total movies:  62500\n"
     ]
    }
   ],
   "source": [
    "links=[]\n",
    "titles=[]\n",
    "\n",
    "for row in table.findAll(\"tr\"):\n",
    "    for col in table.findAll(\"td\", class_=\"titleColumn\"):\n",
    "        a= col.find('a')\n",
    "        links.append(a['href'])\n",
    "        ba=a.find(text=True)\n",
    "        titles.append(ba)\n",
    "        #print(ba)\n",
    "        #print(a['href'])\n",
    "        \n",
    "print(\"Total movies: \",len(titles))        "
   ]
  },
  {
   "cell_type": "markdown",
   "metadata": {},
   "source": [
    "**Selecting top 100.**"
   ]
  },
  {
   "cell_type": "code",
   "execution_count": 8,
   "metadata": {},
   "outputs": [
    {
     "name": "stdout",
     "output_type": "stream",
     "text": [
      "Total movies:  100\n"
     ]
    }
   ],
   "source": [
    "links=links[:100]\n",
    "titles=titles[:100]\n",
    "\n",
    "link= [ \"https://www.imdb.com\"+ l for l in links] \n",
    "\n",
    "print(\"Total movies: \",len(titles))  "
   ]
  },
  {
   "cell_type": "markdown",
   "metadata": {},
   "source": [
    "**Collecting movie's synopsis links.**"
   ]
  },
  {
   "cell_type": "code",
   "execution_count": 9,
   "metadata": {},
   "outputs": [],
   "source": [
    "def fetch_synopsis_links(link):\n",
    "    \n",
    "    page= u.request.urlopen(link)\n",
    "\n",
    "    soup=BeautifulSoup(page, \"lxml\")\n",
    "\n",
    "    table= soup.find(\"div\", class_=\"article\", id=\"titleStoryLine\")\n",
    "    \n",
    "    syn=[]\n",
    "    \n",
    "    for row in table.findAll('span', class_=\"see-more inline\"):\n",
    "        a=row.findAll('a')\n",
    "        for col in a:\n",
    "            syn.append(col['href'])\n",
    "            #print(col['href'])\n",
    "    \n",
    "    syn=[\"https://www.imdb.com\" + l for l in syn]\n",
    "    \n",
    "    return syn[1]"
   ]
  },
  {
   "cell_type": "code",
   "execution_count": null,
   "metadata": {},
   "outputs": [],
   "source": [
    "synopses_links=[]\n",
    "synopses_links=[ fetch_synopsis_links(l) for l in link]"
   ]
  },
  {
   "cell_type": "code",
   "execution_count": 22,
   "metadata": {},
   "outputs": [],
   "source": [
    "#Correcting some errors manually\n",
    "\n",
    "titles[37]=\"Andrei Rublev\"\n",
    "link[37]=\"https://www.imdb.com/title/tt0060107/?pf_rd_m=A2FGELUUNOQJNL&pf_rd_p=e31d89dd-322d-4646-8962-327b42fe94b1&pf_rd_r=37NZ7PY2CD850AY3SGJK&pf_rd_s=center-1&pf_rd_t=15506&pf_rd_i=top&ref_=chttp_tt_202\"\n",
    "synopses_links[37]=\"https://www.imdb.com/title/tt0060107/plotsummary?ref_=tt_stry_pl#synopsis\"\n",
    "titles[98]=\"Before Sunrise\"\n",
    "link[98]=\"https://www.imdb.com/title/tt0112471/?pf_rd_m=A2FGELUUNOQJNL&pf_rd_p=e31d89dd-322d-4646-8962-327b42fe94b1&pf_rd_r=SR4RNJWKJV620D37JBQ6&pf_rd_s=center-1&pf_rd_t=15506&pf_rd_i=top&ref_=chttp_tt_204\"\n",
    "synopses_links[98]=\"https://www.imdb.com/title/tt0112471/plotsummary?ref_=tt_stry_pl#synopsis\""
   ]
  },
  {
   "cell_type": "markdown",
   "metadata": {},
   "source": [
    "**Fetching synopses text.**"
   ]
  },
  {
   "cell_type": "code",
   "execution_count": 23,
   "metadata": {},
   "outputs": [],
   "source": [
    "def fetch_synopsis(link):\n",
    "    \n",
    "    page= u.request.urlopen(link)\n",
    "\n",
    "    soup=BeautifulSoup(page, \"lxml\")\n",
    "\n",
    "    table= soup.find(\"ul\", class_=\"ipl-zebra-list\", id=\"plot-synopsis-content\")\n",
    "    \n",
    "    a=table.find('li')\n",
    "    \n",
    "    #temp=a.text\n",
    "    #print(temp[:10])\n",
    "    \n",
    "    return a.text"
   ]
  },
  {
   "cell_type": "code",
   "execution_count": null,
   "metadata": {},
   "outputs": [],
   "source": [
    "synopses=[]= [fetch_synopsis(l) for l in synopses_links]"
   ]
  },
  {
   "cell_type": "markdown",
   "metadata": {},
   "source": [
    "**Collecting Genres of movies.**"
   ]
  },
  {
   "cell_type": "code",
   "execution_count": 6,
   "metadata": {},
   "outputs": [],
   "source": [
    "def fetch_genre(link):\n",
    "    \n",
    "    page= u.request.urlopen(link)\n",
    "\n",
    "    soup=BeautifulSoup(page, \"lxml\")\n",
    "\n",
    "    table= soup.find(\"div\", class_=\"article\", id=\"titleStoryLine\")\n",
    "    \n",
    "    temp=table.findAll(\"div\", class_=\"see-more inline canwrap\")\n",
    "    \n",
    "    #aa=temp[1]\n",
    "    gen=[]\n",
    "    for row in temp[1].findAll(\"a\"):\n",
    "    \n",
    "        #print(row.text)\n",
    "        gen.append(row.text)\n",
    "\n",
    "    return gen    "
   ]
  },
  {
   "cell_type": "code",
   "execution_count": null,
   "metadata": {},
   "outputs": [],
   "source": [
    "genre= [fetch_genre(l) for l in link]"
   ]
  },
  {
   "cell_type": "markdown",
   "metadata": {},
   "source": [
    "**Storing data in a csv file.**"
   ]
  },
  {
   "cell_type": "code",
   "execution_count": 39,
   "metadata": {},
   "outputs": [],
   "source": [
    "movies=pd.DataFrame({'title':titles, 'link': link,'syn_link': synopses_links, 'genres':genre, 'plot_synopsis': synopses})"
   ]
  },
  {
   "cell_type": "code",
   "execution_count": 44,
   "metadata": {},
   "outputs": [],
   "source": [
    "movies.to_csv(\"movies.csv\",index=False )"
   ]
  }
 ],
 "metadata": {
  "kernelspec": {
   "display_name": "Python 3",
   "language": "python",
   "name": "python3"
  },
  "language_info": {
   "codemirror_mode": {
    "name": "ipython",
    "version": 3
   },
   "file_extension": ".py",
   "mimetype": "text/x-python",
   "name": "python",
   "nbconvert_exporter": "python",
   "pygments_lexer": "ipython3",
   "version": "3.6.5"
  }
 },
 "nbformat": 4,
 "nbformat_minor": 2
}
