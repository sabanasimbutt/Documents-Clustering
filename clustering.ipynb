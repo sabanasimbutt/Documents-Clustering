{
 "cells": [
  {
   "cell_type": "code",
   "execution_count": 2,
   "metadata": {},
   "outputs": [],
   "source": [
    "import numpy as np\n",
    "import pandas as pd\n",
    "import nltk\n",
    "from bs4 import BeautifulSoup\n",
    "import re\n",
    "import os\n",
    "import codecs\n",
    "from sklearn import feature_extraction\n",
    "import mpld3"
   ]
  },
  {
   "cell_type": "code",
   "execution_count": 3,
   "metadata": {},
   "outputs": [],
   "source": [
    "data= pd.read_csv(\"C://Users/Saba Naseem/Desktop/Machine Learning/Codes/kaggle/Document Clustering/movies.csv\")"
   ]
  },
  {
   "cell_type": "code",
   "execution_count": 168,
   "metadata": {},
   "outputs": [
    {
     "data": {
      "text/html": [
       "<div>\n",
       "<style scoped>\n",
       "    .dataframe tbody tr th:only-of-type {\n",
       "        vertical-align: middle;\n",
       "    }\n",
       "\n",
       "    .dataframe tbody tr th {\n",
       "        vertical-align: top;\n",
       "    }\n",
       "\n",
       "    .dataframe thead th {\n",
       "        text-align: right;\n",
       "    }\n",
       "</style>\n",
       "<table border=\"1\" class=\"dataframe\">\n",
       "  <thead>\n",
       "    <tr style=\"text-align: right;\">\n",
       "      <th></th>\n",
       "      <th>title</th>\n",
       "      <th>link</th>\n",
       "      <th>syn_link</th>\n",
       "      <th>genres</th>\n",
       "      <th>plot_synopsis</th>\n",
       "    </tr>\n",
       "  </thead>\n",
       "  <tbody>\n",
       "    <tr>\n",
       "      <th>0</th>\n",
       "      <td>The Shawshank Redemption</td>\n",
       "      <td>https://www.imdb.com/title/tt0111161/?pf_rd_m=...</td>\n",
       "      <td>https://www.imdb.com/title/tt0111161/synopsis?...</td>\n",
       "      <td>[' Drama']</td>\n",
       "      <td>In 1947, Andy Dufresne (Tim Robbins), a banker...</td>\n",
       "    </tr>\n",
       "    <tr>\n",
       "      <th>1</th>\n",
       "      <td>The Godfather</td>\n",
       "      <td>https://www.imdb.com/title/tt0068646/?pf_rd_m=...</td>\n",
       "      <td>https://www.imdb.com/title/tt0068646/synopsis?...</td>\n",
       "      <td>[' Crime', ' Drama']</td>\n",
       "      <td>In late summer 1945, guests are gathered for t...</td>\n",
       "    </tr>\n",
       "    <tr>\n",
       "      <th>2</th>\n",
       "      <td>The Godfather: Part II</td>\n",
       "      <td>https://www.imdb.com/title/tt0071562/?pf_rd_m=...</td>\n",
       "      <td>https://www.imdb.com/title/tt0071562/synopsis?...</td>\n",
       "      <td>[' Crime', ' Drama']</td>\n",
       "      <td>The Godfather Part II presents two parallel st...</td>\n",
       "    </tr>\n",
       "    <tr>\n",
       "      <th>3</th>\n",
       "      <td>The Dark Knight</td>\n",
       "      <td>https://www.imdb.com/title/tt0468569/?pf_rd_m=...</td>\n",
       "      <td>https://www.imdb.com/title/tt0468569/synopsis?...</td>\n",
       "      <td>[' Action', ' Crime', ' Drama', ' Thriller']</td>\n",
       "      <td>The movie begins with a gang of men with clown...</td>\n",
       "    </tr>\n",
       "    <tr>\n",
       "      <th>4</th>\n",
       "      <td>12 Angry Men</td>\n",
       "      <td>https://www.imdb.com/title/tt0050083/?pf_rd_m=...</td>\n",
       "      <td>https://www.imdb.com/title/tt0050083/synopsis?...</td>\n",
       "      <td>[' Drama']</td>\n",
       "      <td>In a New York City courthouse, an eighteen-yea...</td>\n",
       "    </tr>\n",
       "    <tr>\n",
       "      <th>5</th>\n",
       "      <td>Schindler's List</td>\n",
       "      <td>https://www.imdb.com/title/tt0108052/?pf_rd_m=...</td>\n",
       "      <td>https://www.imdb.com/title/tt0108052/synopsis?...</td>\n",
       "      <td>[' Biography', ' Drama', ' History']</td>\n",
       "      <td>The relocation of Polish Jews from surrounding...</td>\n",
       "    </tr>\n",
       "    <tr>\n",
       "      <th>6</th>\n",
       "      <td>The Lord of the Rings: The Return of the King</td>\n",
       "      <td>https://www.imdb.com/title/tt0167260/?pf_rd_m=...</td>\n",
       "      <td>https://www.imdb.com/title/tt0167260/synopsis?...</td>\n",
       "      <td>[' Adventure', ' Drama', ' Fantasy']</td>\n",
       "      <td>In the opening scene, a flashback, two hobbits...</td>\n",
       "    </tr>\n",
       "    <tr>\n",
       "      <th>7</th>\n",
       "      <td>Pulp Fiction</td>\n",
       "      <td>https://www.imdb.com/title/tt0110912/?pf_rd_m=...</td>\n",
       "      <td>https://www.imdb.com/title/tt0110912/synopsis?...</td>\n",
       "      <td>[' Crime', ' Drama']</td>\n",
       "      <td>Late one morning in the Hawthorne Grill, a res...</td>\n",
       "    </tr>\n",
       "    <tr>\n",
       "      <th>8</th>\n",
       "      <td>Il buono, il brutto, il cattivo</td>\n",
       "      <td>https://www.imdb.com/title/tt0060196/?pf_rd_m=...</td>\n",
       "      <td>https://www.imdb.com/title/tt0060196/synopsis?...</td>\n",
       "      <td>[' Western']</td>\n",
       "      <td>The film tells the story of three men who purs...</td>\n",
       "    </tr>\n",
       "    <tr>\n",
       "      <th>9</th>\n",
       "      <td>Fight Club</td>\n",
       "      <td>https://www.imdb.com/title/tt0137523/?pf_rd_m=...</td>\n",
       "      <td>https://www.imdb.com/title/tt0137523/synopsis?...</td>\n",
       "      <td>[' Drama']</td>\n",
       "      <td>We back out of the webbing of neurons and brai...</td>\n",
       "    </tr>\n",
       "    <tr>\n",
       "      <th>10</th>\n",
       "      <td>The Lord of the Rings: The Fellowship of the Ring</td>\n",
       "      <td>https://www.imdb.com/title/tt0120737/?pf_rd_m=...</td>\n",
       "      <td>https://www.imdb.com/title/tt0120737/synopsis?...</td>\n",
       "      <td>[' Adventure', ' Drama', ' Fantasy']</td>\n",
       "      <td>The prologue, spoken by Galadriel, shows the D...</td>\n",
       "    </tr>\n",
       "    <tr>\n",
       "      <th>11</th>\n",
       "      <td>Forrest Gump</td>\n",
       "      <td>https://www.imdb.com/title/tt0109830/?pf_rd_m=...</td>\n",
       "      <td>https://www.imdb.com/title/tt0109830/synopsis?...</td>\n",
       "      <td>[' Drama', ' Romance']</td>\n",
       "      <td>The film begins with a feather falling to the ...</td>\n",
       "    </tr>\n",
       "    <tr>\n",
       "      <th>12</th>\n",
       "      <td>Star Wars: Episode V - The Empire Strikes Back</td>\n",
       "      <td>https://www.imdb.com/title/tt0080684/?pf_rd_m=...</td>\n",
       "      <td>https://www.imdb.com/title/tt0080684/synopsis?...</td>\n",
       "      <td>[' Action', ' Adventure', ' Fantasy', ' Sci-Fi']</td>\n",
       "      <td>In this sequel to the previous Star Wars movie...</td>\n",
       "    </tr>\n",
       "    <tr>\n",
       "      <th>13</th>\n",
       "      <td>Inception</td>\n",
       "      <td>https://www.imdb.com/title/tt1375666/?pf_rd_m=...</td>\n",
       "      <td>https://www.imdb.com/title/tt1375666/synopsis?...</td>\n",
       "      <td>[' Action', ' Adventure', ' Sci-Fi', ' Thriller']</td>\n",
       "      <td>A young man, exhausted and delirious, washes u...</td>\n",
       "    </tr>\n",
       "    <tr>\n",
       "      <th>14</th>\n",
       "      <td>The Lord of the Rings: The Two Towers</td>\n",
       "      <td>https://www.imdb.com/title/tt0167261/?pf_rd_m=...</td>\n",
       "      <td>https://www.imdb.com/title/tt0167261/synopsis?...</td>\n",
       "      <td>[' Adventure', ' Drama', ' Fantasy']</td>\n",
       "      <td>The film begins with a flashback to the first ...</td>\n",
       "    </tr>\n",
       "    <tr>\n",
       "      <th>15</th>\n",
       "      <td>One Flew Over the Cuckoo's Nest</td>\n",
       "      <td>https://www.imdb.com/title/tt0073486/?pf_rd_m=...</td>\n",
       "      <td>https://www.imdb.com/title/tt0073486/synopsis?...</td>\n",
       "      <td>[' Drama']</td>\n",
       "      <td>In 1963 Oregon, Randle Patrick McMurphy (Nicho...</td>\n",
       "    </tr>\n",
       "    <tr>\n",
       "      <th>16</th>\n",
       "      <td>Goodfellas</td>\n",
       "      <td>https://www.imdb.com/title/tt0099685/?pf_rd_m=...</td>\n",
       "      <td>https://www.imdb.com/title/tt0099685/synopsis?...</td>\n",
       "      <td>[' Crime', ' Drama']</td>\n",
       "      <td>The film opens with three men driving in their...</td>\n",
       "    </tr>\n",
       "    <tr>\n",
       "      <th>17</th>\n",
       "      <td>The Matrix</td>\n",
       "      <td>https://www.imdb.com/title/tt0133093/?pf_rd_m=...</td>\n",
       "      <td>https://www.imdb.com/title/tt0133093/synopsis?...</td>\n",
       "      <td>[' Action', ' Sci-Fi']</td>\n",
       "      <td>The screen is filled with green, cascading cod...</td>\n",
       "    </tr>\n",
       "    <tr>\n",
       "      <th>18</th>\n",
       "      <td>Shichinin no samurai</td>\n",
       "      <td>https://www.imdb.com/title/tt0047478/?pf_rd_m=...</td>\n",
       "      <td>https://www.imdb.com/title/tt0047478/synopsis?...</td>\n",
       "      <td>[' Adventure', ' Drama']</td>\n",
       "      <td>A gang of marauding bandits approaches a mount...</td>\n",
       "    </tr>\n",
       "    <tr>\n",
       "      <th>19</th>\n",
       "      <td>Se7en</td>\n",
       "      <td>https://www.imdb.com/title/tt0114369/?pf_rd_m=...</td>\n",
       "      <td>https://www.imdb.com/title/tt0114369/synopsis?...</td>\n",
       "      <td>[' Crime', ' Drama', ' Mystery', ' Thriller']</td>\n",
       "      <td>In an unidentified city of constant rain and u...</td>\n",
       "    </tr>\n",
       "    <tr>\n",
       "      <th>20</th>\n",
       "      <td>Cidade de Deus</td>\n",
       "      <td>https://www.imdb.com/title/tt0317248/?pf_rd_m=...</td>\n",
       "      <td>https://www.imdb.com/title/tt0317248/synopsis?...</td>\n",
       "      <td>[' Crime', ' Drama']</td>\n",
       "      <td>Taking place over the course of over two decad...</td>\n",
       "    </tr>\n",
       "    <tr>\n",
       "      <th>21</th>\n",
       "      <td>Star Wars</td>\n",
       "      <td>https://www.imdb.com/title/tt0076759/?pf_rd_m=...</td>\n",
       "      <td>https://www.imdb.com/title/tt0076759/synopsis?...</td>\n",
       "      <td>[' Action', ' Adventure', ' Fantasy', ' Sci-Fi']</td>\n",
       "      <td>Note: Italicized paragraphs describe scenes ad...</td>\n",
       "    </tr>\n",
       "    <tr>\n",
       "      <th>22</th>\n",
       "      <td>The Silence of the Lambs</td>\n",
       "      <td>https://www.imdb.com/title/tt0102926/?pf_rd_m=...</td>\n",
       "      <td>https://www.imdb.com/title/tt0102926/synopsis?...</td>\n",
       "      <td>[' Crime', ' Drama', ' Thriller']</td>\n",
       "      <td>Promising FBI Academy student Clarice Starling...</td>\n",
       "    </tr>\n",
       "    <tr>\n",
       "      <th>23</th>\n",
       "      <td>It's a Wonderful Life</td>\n",
       "      <td>https://www.imdb.com/title/tt0038650/?pf_rd_m=...</td>\n",
       "      <td>https://www.imdb.com/title/tt0038650/synopsis?...</td>\n",
       "      <td>[' Drama', ' Family', ' Fantasy']</td>\n",
       "      <td>This movie is about a divine intervention by a...</td>\n",
       "    </tr>\n",
       "    <tr>\n",
       "      <th>24</th>\n",
       "      <td>La vita è bella</td>\n",
       "      <td>https://www.imdb.com/title/tt0118799/?pf_rd_m=...</td>\n",
       "      <td>https://www.imdb.com/title/tt0118799/synopsis?...</td>\n",
       "      <td>[' Comedy', ' Drama', ' Romance', ' War']</td>\n",
       "      <td>Set in late 1930s Arezzo, Italy, Jewish man an...</td>\n",
       "    </tr>\n",
       "  </tbody>\n",
       "</table>\n",
       "</div>"
      ],
      "text/plain": [
       "                                                title  \\\n",
       "0                            The Shawshank Redemption   \n",
       "1                                       The Godfather   \n",
       "2                              The Godfather: Part II   \n",
       "3                                     The Dark Knight   \n",
       "4                                        12 Angry Men   \n",
       "5                                    Schindler's List   \n",
       "6       The Lord of the Rings: The Return of the King   \n",
       "7                                        Pulp Fiction   \n",
       "8                     Il buono, il brutto, il cattivo   \n",
       "9                                          Fight Club   \n",
       "10  The Lord of the Rings: The Fellowship of the Ring   \n",
       "11                                       Forrest Gump   \n",
       "12     Star Wars: Episode V - The Empire Strikes Back   \n",
       "13                                          Inception   \n",
       "14              The Lord of the Rings: The Two Towers   \n",
       "15                    One Flew Over the Cuckoo's Nest   \n",
       "16                                         Goodfellas   \n",
       "17                                         The Matrix   \n",
       "18                               Shichinin no samurai   \n",
       "19                                              Se7en   \n",
       "20                                     Cidade de Deus   \n",
       "21                                          Star Wars   \n",
       "22                           The Silence of the Lambs   \n",
       "23                              It's a Wonderful Life   \n",
       "24                                    La vita è bella   \n",
       "\n",
       "                                                 link  \\\n",
       "0   https://www.imdb.com/title/tt0111161/?pf_rd_m=...   \n",
       "1   https://www.imdb.com/title/tt0068646/?pf_rd_m=...   \n",
       "2   https://www.imdb.com/title/tt0071562/?pf_rd_m=...   \n",
       "3   https://www.imdb.com/title/tt0468569/?pf_rd_m=...   \n",
       "4   https://www.imdb.com/title/tt0050083/?pf_rd_m=...   \n",
       "5   https://www.imdb.com/title/tt0108052/?pf_rd_m=...   \n",
       "6   https://www.imdb.com/title/tt0167260/?pf_rd_m=...   \n",
       "7   https://www.imdb.com/title/tt0110912/?pf_rd_m=...   \n",
       "8   https://www.imdb.com/title/tt0060196/?pf_rd_m=...   \n",
       "9   https://www.imdb.com/title/tt0137523/?pf_rd_m=...   \n",
       "10  https://www.imdb.com/title/tt0120737/?pf_rd_m=...   \n",
       "11  https://www.imdb.com/title/tt0109830/?pf_rd_m=...   \n",
       "12  https://www.imdb.com/title/tt0080684/?pf_rd_m=...   \n",
       "13  https://www.imdb.com/title/tt1375666/?pf_rd_m=...   \n",
       "14  https://www.imdb.com/title/tt0167261/?pf_rd_m=...   \n",
       "15  https://www.imdb.com/title/tt0073486/?pf_rd_m=...   \n",
       "16  https://www.imdb.com/title/tt0099685/?pf_rd_m=...   \n",
       "17  https://www.imdb.com/title/tt0133093/?pf_rd_m=...   \n",
       "18  https://www.imdb.com/title/tt0047478/?pf_rd_m=...   \n",
       "19  https://www.imdb.com/title/tt0114369/?pf_rd_m=...   \n",
       "20  https://www.imdb.com/title/tt0317248/?pf_rd_m=...   \n",
       "21  https://www.imdb.com/title/tt0076759/?pf_rd_m=...   \n",
       "22  https://www.imdb.com/title/tt0102926/?pf_rd_m=...   \n",
       "23  https://www.imdb.com/title/tt0038650/?pf_rd_m=...   \n",
       "24  https://www.imdb.com/title/tt0118799/?pf_rd_m=...   \n",
       "\n",
       "                                             syn_link  \\\n",
       "0   https://www.imdb.com/title/tt0111161/synopsis?...   \n",
       "1   https://www.imdb.com/title/tt0068646/synopsis?...   \n",
       "2   https://www.imdb.com/title/tt0071562/synopsis?...   \n",
       "3   https://www.imdb.com/title/tt0468569/synopsis?...   \n",
       "4   https://www.imdb.com/title/tt0050083/synopsis?...   \n",
       "5   https://www.imdb.com/title/tt0108052/synopsis?...   \n",
       "6   https://www.imdb.com/title/tt0167260/synopsis?...   \n",
       "7   https://www.imdb.com/title/tt0110912/synopsis?...   \n",
       "8   https://www.imdb.com/title/tt0060196/synopsis?...   \n",
       "9   https://www.imdb.com/title/tt0137523/synopsis?...   \n",
       "10  https://www.imdb.com/title/tt0120737/synopsis?...   \n",
       "11  https://www.imdb.com/title/tt0109830/synopsis?...   \n",
       "12  https://www.imdb.com/title/tt0080684/synopsis?...   \n",
       "13  https://www.imdb.com/title/tt1375666/synopsis?...   \n",
       "14  https://www.imdb.com/title/tt0167261/synopsis?...   \n",
       "15  https://www.imdb.com/title/tt0073486/synopsis?...   \n",
       "16  https://www.imdb.com/title/tt0099685/synopsis?...   \n",
       "17  https://www.imdb.com/title/tt0133093/synopsis?...   \n",
       "18  https://www.imdb.com/title/tt0047478/synopsis?...   \n",
       "19  https://www.imdb.com/title/tt0114369/synopsis?...   \n",
       "20  https://www.imdb.com/title/tt0317248/synopsis?...   \n",
       "21  https://www.imdb.com/title/tt0076759/synopsis?...   \n",
       "22  https://www.imdb.com/title/tt0102926/synopsis?...   \n",
       "23  https://www.imdb.com/title/tt0038650/synopsis?...   \n",
       "24  https://www.imdb.com/title/tt0118799/synopsis?...   \n",
       "\n",
       "                                               genres  \\\n",
       "0                                          [' Drama']   \n",
       "1                                [' Crime', ' Drama']   \n",
       "2                                [' Crime', ' Drama']   \n",
       "3        [' Action', ' Crime', ' Drama', ' Thriller']   \n",
       "4                                          [' Drama']   \n",
       "5                [' Biography', ' Drama', ' History']   \n",
       "6                [' Adventure', ' Drama', ' Fantasy']   \n",
       "7                                [' Crime', ' Drama']   \n",
       "8                                        [' Western']   \n",
       "9                                          [' Drama']   \n",
       "10               [' Adventure', ' Drama', ' Fantasy']   \n",
       "11                             [' Drama', ' Romance']   \n",
       "12   [' Action', ' Adventure', ' Fantasy', ' Sci-Fi']   \n",
       "13  [' Action', ' Adventure', ' Sci-Fi', ' Thriller']   \n",
       "14               [' Adventure', ' Drama', ' Fantasy']   \n",
       "15                                         [' Drama']   \n",
       "16                               [' Crime', ' Drama']   \n",
       "17                             [' Action', ' Sci-Fi']   \n",
       "18                           [' Adventure', ' Drama']   \n",
       "19      [' Crime', ' Drama', ' Mystery', ' Thriller']   \n",
       "20                               [' Crime', ' Drama']   \n",
       "21   [' Action', ' Adventure', ' Fantasy', ' Sci-Fi']   \n",
       "22                  [' Crime', ' Drama', ' Thriller']   \n",
       "23                  [' Drama', ' Family', ' Fantasy']   \n",
       "24          [' Comedy', ' Drama', ' Romance', ' War']   \n",
       "\n",
       "                                        plot_synopsis  \n",
       "0   In 1947, Andy Dufresne (Tim Robbins), a banker...  \n",
       "1   In late summer 1945, guests are gathered for t...  \n",
       "2   The Godfather Part II presents two parallel st...  \n",
       "3   The movie begins with a gang of men with clown...  \n",
       "4   In a New York City courthouse, an eighteen-yea...  \n",
       "5   The relocation of Polish Jews from surrounding...  \n",
       "6   In the opening scene, a flashback, two hobbits...  \n",
       "7   Late one morning in the Hawthorne Grill, a res...  \n",
       "8   The film tells the story of three men who purs...  \n",
       "9   We back out of the webbing of neurons and brai...  \n",
       "10  The prologue, spoken by Galadriel, shows the D...  \n",
       "11  The film begins with a feather falling to the ...  \n",
       "12  In this sequel to the previous Star Wars movie...  \n",
       "13  A young man, exhausted and delirious, washes u...  \n",
       "14  The film begins with a flashback to the first ...  \n",
       "15  In 1963 Oregon, Randle Patrick McMurphy (Nicho...  \n",
       "16  The film opens with three men driving in their...  \n",
       "17  The screen is filled with green, cascading cod...  \n",
       "18  A gang of marauding bandits approaches a mount...  \n",
       "19  In an unidentified city of constant rain and u...  \n",
       "20  Taking place over the course of over two decad...  \n",
       "21  Note: Italicized paragraphs describe scenes ad...  \n",
       "22  Promising FBI Academy student Clarice Starling...  \n",
       "23  This movie is about a divine intervention by a...  \n",
       "24  Set in late 1930s Arezzo, Italy, Jewish man an...  "
      ]
     },
     "execution_count": 168,
     "metadata": {},
     "output_type": "execute_result"
    }
   ],
   "source": [
    "data.head(25)"
   ]
  },
  {
   "cell_type": "code",
   "execution_count": 4,
   "metadata": {},
   "outputs": [
    {
     "data": {
      "text/plain": [
       "Index(['title', 'link', 'syn_link', 'genres', 'plot_synopsis'], dtype='object')"
      ]
     },
     "execution_count": 4,
     "metadata": {},
     "output_type": "execute_result"
    }
   ],
   "source": [
    "data.columns"
   ]
  },
  {
   "cell_type": "code",
   "execution_count": 8,
   "metadata": {},
   "outputs": [],
   "source": [
    "title, synopsis, genre= data['title'], data['plot_synopsis'], data['genres']"
   ]
  },
  {
   "cell_type": "code",
   "execution_count": 13,
   "metadata": {},
   "outputs": [
    {
     "data": {
      "text/plain": [
       "'In 1947, Andy Dufresne (Tim Robbins), a banker in Maine, is convicted of murdering his wife and her lover, a golf pro. Since the state of Maine has no death penalty, he is given two consecutive life s'"
      ]
     },
     "execution_count": 13,
     "metadata": {},
     "output_type": "execute_result"
    }
   ],
   "source": [
    "synopsis[0][:200]"
   ]
  },
  {
   "cell_type": "markdown",
   "metadata": {},
   "source": [
    "#### Stopwords, stemming, and tokenizing"
   ]
  },
  {
   "cell_type": "code",
   "execution_count": 91,
   "metadata": {},
   "outputs": [
    {
     "data": {
      "text/plain": [
       "['i', 'me', 'my', 'myself', 'we', 'our', 'ours', 'ourselves', 'you', \"you're\"]"
      ]
     },
     "execution_count": 91,
     "metadata": {},
     "output_type": "execute_result"
    }
   ],
   "source": [
    "stopwords= nltk.corpus.stopwords.words(\"english\")\n",
    "stopwords[:10]"
   ]
  },
  {
   "cell_type": "code",
   "execution_count": null,
   "metadata": {},
   "outputs": [],
   "source": []
  },
  {
   "cell_type": "code",
   "execution_count": 118,
   "metadata": {},
   "outputs": [],
   "source": [
    "def tokenizing(text):\n",
    "    \n",
    "    #breaking each word and making them tokens\n",
    "    tokens=[word.lower() for sent in nltk.sent_tokenize(text) for word in nltk.word_tokenize(sent)]\n",
    "    \n",
    "    #storing only alpha tokens\n",
    "    filtered_tokens=[]\n",
    "    for token in tokens:\n",
    "        if (re.search('[a-zA-Z]', token)):\n",
    "            filtered_tokens.append(token)\n",
    "\n",
    "    return filtered_tokens\n",
    "\n",
    "\n",
    "from nltk.stem.snowball import SnowballStemmer\n",
    "stemmer= SnowballStemmer(\"english\")\n",
    "\n",
    "def stemming(text):\n",
    "    \n",
    "    stems =[stemmer.stem(t) for t in text]\n",
    "    return stems\n",
    "\n",
    "def token_stems(text):\n",
    "        \n",
    "    tokens=tokenizing(text) \n",
    "    stems=stemming(tokens)\n",
    "   \n",
    "    return stems       "
   ]
  },
  {
   "cell_type": "code",
   "execution_count": 119,
   "metadata": {},
   "outputs": [
    {
     "data": {
      "text/plain": [
       "['in', 'andi', 'dufresn', 'tim', 'robbin', 'a', 'banker', 'in', 'main', 'is']"
      ]
     },
     "execution_count": 119,
     "metadata": {},
     "output_type": "execute_result"
    }
   ],
   "source": [
    "a= token_stems(synopsis[0])\n",
    "a[:10]"
   ]
  },
  {
   "cell_type": "code",
   "execution_count": 74,
   "metadata": {},
   "outputs": [],
   "source": [
    "tokenized_only_vocab=[ tokenizing(word) for word in synopsis]\n",
    "stemmed_vocab=[ stemming(token) for token in tokenized_only_vocab]"
   ]
  },
  {
   "cell_type": "code",
   "execution_count": 86,
   "metadata": {},
   "outputs": [
    {
     "data": {
      "text/plain": [
       "(100, 100)"
      ]
     },
     "execution_count": 86,
     "metadata": {},
     "output_type": "execute_result"
    }
   ],
   "source": [
    "len(stemmed_vocab), len(tokenized_only_vocab)"
   ]
  },
  {
   "cell_type": "markdown",
   "metadata": {},
   "source": [
    "#### TF-IDF vectorization"
   ]
  },
  {
   "cell_type": "code",
   "execution_count": 97,
   "metadata": {},
   "outputs": [],
   "source": [
    "from sklearn.feature_extraction.text import TfidfVectorizer\n",
    "\n",
    "tfidf= TfidfVectorizer(max_df=0.8, max_features=200000, min_df=0.2, stop_words='english',\n",
    "                      use_idf=True, tokenizer=token_stems, ngram_range=(1,3))\n",
    "\n",
    "%time tfidf_matriz= tfidf.fit_transform(synopsis)\n",
    "\n",
    "print(tfidf_matriz.shape)\n",
    "\n",
    "terms=tfidf.get_feature_names()"
   ]
  },
  {
   "cell_type": "code",
   "execution_count": 109,
   "metadata": {},
   "outputs": [],
   "source": [
    "from sklearn.metrics.pairwise import cosine_similarity\n",
    "dist = 1 - cosine_similarity(tfidf_matriz)"
   ]
  },
  {
   "cell_type": "code",
   "execution_count": 122,
   "metadata": {},
   "outputs": [],
   "source": [
    "t=tfidf.vocabulary_"
   ]
  },
  {
   "cell_type": "code",
   "execution_count": 138,
   "metadata": {},
   "outputs": [],
   "source": [
    "aa=tfidf.stop_words_"
   ]
  },
  {
   "cell_type": "code",
   "execution_count": null,
   "metadata": {},
   "outputs": [],
   "source": []
  },
  {
   "cell_type": "markdown",
   "metadata": {},
   "source": [
    "#### K Mean Clustering"
   ]
  },
  {
   "cell_type": "code",
   "execution_count": 139,
   "metadata": {},
   "outputs": [],
   "source": [
    "from sklearn.cluster import KMeans"
   ]
  },
  {
   "cell_type": "code",
   "execution_count": 141,
   "metadata": {},
   "outputs": [
    {
     "data": {
      "text/plain": [
       "KMeans(algorithm='auto', copy_x=True, init='k-means++', max_iter=300,\n",
       "    n_clusters=5, n_init=10, n_jobs=1, precompute_distances='auto',\n",
       "    random_state=None, tol=0.0001, verbose=0)"
      ]
     },
     "execution_count": 141,
     "metadata": {},
     "output_type": "execute_result"
    }
   ],
   "source": [
    "kmean= KMeans(5)\n",
    "\n",
    "kmean.fit(tfidf_matriz)"
   ]
  },
  {
   "cell_type": "code",
   "execution_count": 147,
   "metadata": {},
   "outputs": [
    {
     "data": {
      "text/plain": [
       "array([4, 2, 0, 2, 3, 1, 1, 2, 1, 2, 1, 0, 1, 4, 1, 1, 2, 4, 1, 4, 0, 1,\n",
       "       4, 4, 2, 4, 4, 4, 4, 2, 4, 4, 4, 4, 0, 4, 4, 0, 0, 2, 2, 4, 4, 0,\n",
       "       2, 4, 4, 1, 4, 1, 4, 4, 0, 0, 1, 2, 4, 1, 1, 4, 4, 4, 4, 4, 3, 0,\n",
       "       4, 0, 4, 2, 0, 4, 4, 1, 4, 4, 4, 1, 0, 2, 0, 0, 2, 0, 1, 0, 2, 4,\n",
       "       4, 4, 0, 4, 0, 4, 4, 4, 0, 4, 0, 2])"
      ]
     },
     "execution_count": 147,
     "metadata": {},
     "output_type": "execute_result"
    }
   ],
   "source": [
    "clusters= kmean.labels_\n",
    "clusters"
   ]
  },
  {
   "cell_type": "code",
   "execution_count": 153,
   "metadata": {},
   "outputs": [],
   "source": [
    "films=pd.DataFrame({'title': title, 'rank': ranks, 'synopsis': synopsis, 'cluster': clusters, 'genre': genre})"
   ]
  },
  {
   "cell_type": "code",
   "execution_count": 156,
   "metadata": {},
   "outputs": [
    {
     "data": {
      "text/html": [
       "<div>\n",
       "<style scoped>\n",
       "    .dataframe tbody tr th:only-of-type {\n",
       "        vertical-align: middle;\n",
       "    }\n",
       "\n",
       "    .dataframe tbody tr th {\n",
       "        vertical-align: top;\n",
       "    }\n",
       "\n",
       "    .dataframe thead th {\n",
       "        text-align: right;\n",
       "    }\n",
       "</style>\n",
       "<table border=\"1\" class=\"dataframe\">\n",
       "  <thead>\n",
       "    <tr style=\"text-align: right;\">\n",
       "      <th></th>\n",
       "      <th>title</th>\n",
       "      <th>rank</th>\n",
       "      <th>synopsis</th>\n",
       "      <th>cluster</th>\n",
       "      <th>genre</th>\n",
       "    </tr>\n",
       "  </thead>\n",
       "  <tbody>\n",
       "    <tr>\n",
       "      <th>0</th>\n",
       "      <td>The Shawshank Redemption</td>\n",
       "      <td>0</td>\n",
       "      <td>In 1947, Andy Dufresne (Tim Robbins), a banker...</td>\n",
       "      <td>4</td>\n",
       "      <td>[' Drama']</td>\n",
       "    </tr>\n",
       "    <tr>\n",
       "      <th>1</th>\n",
       "      <td>The Godfather</td>\n",
       "      <td>1</td>\n",
       "      <td>In late summer 1945, guests are gathered for t...</td>\n",
       "      <td>2</td>\n",
       "      <td>[' Crime', ' Drama']</td>\n",
       "    </tr>\n",
       "    <tr>\n",
       "      <th>2</th>\n",
       "      <td>The Godfather: Part II</td>\n",
       "      <td>2</td>\n",
       "      <td>The Godfather Part II presents two parallel st...</td>\n",
       "      <td>0</td>\n",
       "      <td>[' Crime', ' Drama']</td>\n",
       "    </tr>\n",
       "    <tr>\n",
       "      <th>3</th>\n",
       "      <td>The Dark Knight</td>\n",
       "      <td>3</td>\n",
       "      <td>The movie begins with a gang of men with clown...</td>\n",
       "      <td>2</td>\n",
       "      <td>[' Action', ' Crime', ' Drama', ' Thriller']</td>\n",
       "    </tr>\n",
       "    <tr>\n",
       "      <th>4</th>\n",
       "      <td>12 Angry Men</td>\n",
       "      <td>4</td>\n",
       "      <td>In a New York City courthouse, an eighteen-yea...</td>\n",
       "      <td>3</td>\n",
       "      <td>[' Drama']</td>\n",
       "    </tr>\n",
       "  </tbody>\n",
       "</table>\n",
       "</div>"
      ],
      "text/plain": [
       "                      title  rank  \\\n",
       "0  The Shawshank Redemption     0   \n",
       "1             The Godfather     1   \n",
       "2    The Godfather: Part II     2   \n",
       "3           The Dark Knight     3   \n",
       "4              12 Angry Men     4   \n",
       "\n",
       "                                            synopsis  cluster  \\\n",
       "0  In 1947, Andy Dufresne (Tim Robbins), a banker...        4   \n",
       "1  In late summer 1945, guests are gathered for t...        2   \n",
       "2  The Godfather Part II presents two parallel st...        0   \n",
       "3  The movie begins with a gang of men with clown...        2   \n",
       "4  In a New York City courthouse, an eighteen-yea...        3   \n",
       "\n",
       "                                          genre  \n",
       "0                                    [' Drama']  \n",
       "1                          [' Crime', ' Drama']  \n",
       "2                          [' Crime', ' Drama']  \n",
       "3  [' Action', ' Crime', ' Drama', ' Thriller']  \n",
       "4                                    [' Drama']  "
      ]
     },
     "execution_count": 156,
     "metadata": {},
     "output_type": "execute_result"
    }
   ],
   "source": [
    "films.head()"
   ]
  },
  {
   "cell_type": "code",
   "execution_count": 157,
   "metadata": {},
   "outputs": [
    {
     "data": {
      "text/plain": [
       "4    44\n",
       "0    21\n",
       "1    17\n",
       "2    16\n",
       "3     2\n",
       "Name: cluster, dtype: int64"
      ]
     },
     "execution_count": 157,
     "metadata": {},
     "output_type": "execute_result"
    }
   ],
   "source": [
    "films['cluster'].value_counts()"
   ]
  },
  {
   "cell_type": "code",
   "execution_count": 160,
   "metadata": {},
   "outputs": [
    {
     "data": {
      "text/plain": [
       "cluster\n",
       "0    60.714286\n",
       "1    35.764706\n",
       "2    42.625000\n",
       "3    34.000000\n",
       "4    52.659091\n",
       "Name: rank, dtype: float64"
      ]
     },
     "execution_count": 160,
     "metadata": {},
     "output_type": "execute_result"
    }
   ],
   "source": [
    "grouped = films['rank'].groupby(films['cluster']) #groupby cluster for aggregation purposes\n",
    "\n",
    "grouped.mean()"
   ]
  },
  {
   "cell_type": "code",
   "execution_count": null,
   "metadata": {},
   "outputs": [],
   "source": []
  },
  {
   "cell_type": "code",
   "execution_count": 165,
   "metadata": {},
   "outputs": [
    {
     "data": {
      "text/plain": [
       "array([[0.00511642, 0.00348874, 0.00340236, ..., 0.00255123, 0.00937077,\n",
       "        0.03758867],\n",
       "       [0.02300653, 0.00382105, 0.003744  , ..., 0.        , 0.01132942,\n",
       "        0.02186251],\n",
       "       [0.00575595, 0.00721832, 0.01035289, ..., 0.00743109, 0.01481445,\n",
       "        0.02664877],\n",
       "       [0.        , 0.        , 0.        , ..., 0.01843613, 0.01877592,\n",
       "        0.        ],\n",
       "       [0.01381423, 0.01099983, 0.01174015, ..., 0.01189199, 0.01912986,\n",
       "        0.02006866]])"
      ]
     },
     "execution_count": 165,
     "metadata": {},
     "output_type": "execute_result"
    }
   ],
   "source": [
    "kmean.cluster_centers_"
   ]
  },
  {
   "cell_type": "code",
   "execution_count": 169,
   "metadata": {},
   "outputs": [
    {
     "name": "stdout",
     "output_type": "stream",
     "text": [
      "Top terms per cluster:\n",
      "\n",
      "Cluster 0 words:"
     ]
    },
    {
     "name": "stderr",
     "output_type": "stream",
     "text": [
      "C:\\ProgramData\\Anaconda3\\lib\\site-packages\\ipykernel_launcher.py:12: DeprecationWarning: \n",
      ".ix is deprecated. Please use\n",
      ".loc for label based indexing or\n",
      ".iloc for positional indexing\n",
      "\n",
      "See the documentation here:\n",
      "http://pandas.pydata.org/pandas-docs/stable/indexing.html#ix-indexer-is-deprecated\n",
      "  if sys.path[0] == '':\n"
     ]
    },
    {
     "ename": "KeyError",
     "evalue": "\"None of [['father']] are in the [index]\"",
     "output_type": "error",
     "traceback": [
      "\u001b[1;31m---------------------------------------------------------------------------\u001b[0m",
      "\u001b[1;31mKeyError\u001b[0m                                  Traceback (most recent call last)",
      "\u001b[1;32m<ipython-input-169-4234f072c4b3>\u001b[0m in \u001b[0;36m<module>\u001b[1;34m()\u001b[0m\n\u001b[0;32m     10\u001b[0m \u001b[1;33m\u001b[0m\u001b[0m\n\u001b[0;32m     11\u001b[0m     \u001b[1;32mfor\u001b[0m \u001b[0mind\u001b[0m \u001b[1;32min\u001b[0m \u001b[0morder_centroids\u001b[0m\u001b[1;33m[\u001b[0m\u001b[0mi\u001b[0m\u001b[1;33m,\u001b[0m \u001b[1;33m:\u001b[0m\u001b[1;36m6\u001b[0m\u001b[1;33m]\u001b[0m\u001b[1;33m:\u001b[0m \u001b[1;31m#replace 6 with n words per cluster\u001b[0m\u001b[1;33m\u001b[0m\u001b[0m\n\u001b[1;32m---> 12\u001b[1;33m         \u001b[0mprint\u001b[0m\u001b[1;33m(\u001b[0m\u001b[1;34m' %s'\u001b[0m \u001b[1;33m%\u001b[0m \u001b[0mvocab_frame\u001b[0m\u001b[1;33m.\u001b[0m\u001b[0mix\u001b[0m\u001b[1;33m[\u001b[0m\u001b[0mterms\u001b[0m\u001b[1;33m[\u001b[0m\u001b[0mind\u001b[0m\u001b[1;33m]\u001b[0m\u001b[1;33m.\u001b[0m\u001b[0msplit\u001b[0m\u001b[1;33m(\u001b[0m\u001b[1;34m' '\u001b[0m\u001b[1;33m)\u001b[0m\u001b[1;33m]\u001b[0m\u001b[1;33m.\u001b[0m\u001b[0mvalues\u001b[0m\u001b[1;33m.\u001b[0m\u001b[0mtolist\u001b[0m\u001b[1;33m(\u001b[0m\u001b[1;33m)\u001b[0m\u001b[1;33m[\u001b[0m\u001b[1;36m0\u001b[0m\u001b[1;33m]\u001b[0m\u001b[1;33m[\u001b[0m\u001b[1;36m0\u001b[0m\u001b[1;33m]\u001b[0m\u001b[1;33m.\u001b[0m\u001b[0mencode\u001b[0m\u001b[1;33m(\u001b[0m\u001b[1;34m'utf-8'\u001b[0m\u001b[1;33m,\u001b[0m \u001b[1;34m'ignore'\u001b[0m\u001b[1;33m)\u001b[0m\u001b[1;33m,\u001b[0m \u001b[0mend\u001b[0m\u001b[1;33m=\u001b[0m\u001b[1;34m','\u001b[0m\u001b[1;33m)\u001b[0m\u001b[1;33m\u001b[0m\u001b[0m\n\u001b[0m\u001b[0;32m     13\u001b[0m     \u001b[0mprint\u001b[0m\u001b[1;33m(\u001b[0m\u001b[1;33m)\u001b[0m \u001b[1;31m#add whitespace\u001b[0m\u001b[1;33m\u001b[0m\u001b[0m\n\u001b[0;32m     14\u001b[0m     \u001b[0mprint\u001b[0m\u001b[1;33m(\u001b[0m\u001b[1;33m)\u001b[0m \u001b[1;31m#add whitespace\u001b[0m\u001b[1;33m\u001b[0m\u001b[0m\n",
      "\u001b[1;32mC:\\ProgramData\\Anaconda3\\lib\\site-packages\\pandas\\core\\indexing.py\u001b[0m in \u001b[0;36m__getitem__\u001b[1;34m(self, key)\u001b[0m\n\u001b[0;32m    120\u001b[0m \u001b[1;33m\u001b[0m\u001b[0m\n\u001b[0;32m    121\u001b[0m             \u001b[0mkey\u001b[0m \u001b[1;33m=\u001b[0m \u001b[0mcom\u001b[0m\u001b[1;33m.\u001b[0m\u001b[0m_apply_if_callable\u001b[0m\u001b[1;33m(\u001b[0m\u001b[0mkey\u001b[0m\u001b[1;33m,\u001b[0m \u001b[0mself\u001b[0m\u001b[1;33m.\u001b[0m\u001b[0mobj\u001b[0m\u001b[1;33m)\u001b[0m\u001b[1;33m\u001b[0m\u001b[0m\n\u001b[1;32m--> 122\u001b[1;33m             \u001b[1;32mreturn\u001b[0m \u001b[0mself\u001b[0m\u001b[1;33m.\u001b[0m\u001b[0m_getitem_axis\u001b[0m\u001b[1;33m(\u001b[0m\u001b[0mkey\u001b[0m\u001b[1;33m,\u001b[0m \u001b[0maxis\u001b[0m\u001b[1;33m=\u001b[0m\u001b[0maxis\u001b[0m\u001b[1;33m)\u001b[0m\u001b[1;33m\u001b[0m\u001b[0m\n\u001b[0m\u001b[0;32m    123\u001b[0m \u001b[1;33m\u001b[0m\u001b[0m\n\u001b[0;32m    124\u001b[0m     \u001b[1;32mdef\u001b[0m \u001b[0m_get_label\u001b[0m\u001b[1;33m(\u001b[0m\u001b[0mself\u001b[0m\u001b[1;33m,\u001b[0m \u001b[0mlabel\u001b[0m\u001b[1;33m,\u001b[0m \u001b[0maxis\u001b[0m\u001b[1;33m=\u001b[0m\u001b[1;32mNone\u001b[0m\u001b[1;33m)\u001b[0m\u001b[1;33m:\u001b[0m\u001b[1;33m\u001b[0m\u001b[0m\n",
      "\u001b[1;32mC:\\ProgramData\\Anaconda3\\lib\\site-packages\\pandas\\core\\indexing.py\u001b[0m in \u001b[0;36m_getitem_axis\u001b[1;34m(self, key, axis)\u001b[0m\n\u001b[0;32m   1096\u001b[0m                 \u001b[1;32mraise\u001b[0m \u001b[0mValueError\u001b[0m\u001b[1;33m(\u001b[0m\u001b[1;34m'Cannot index with multidimensional key'\u001b[0m\u001b[1;33m)\u001b[0m\u001b[1;33m\u001b[0m\u001b[0m\n\u001b[0;32m   1097\u001b[0m \u001b[1;33m\u001b[0m\u001b[0m\n\u001b[1;32m-> 1098\u001b[1;33m             \u001b[1;32mreturn\u001b[0m \u001b[0mself\u001b[0m\u001b[1;33m.\u001b[0m\u001b[0m_getitem_iterable\u001b[0m\u001b[1;33m(\u001b[0m\u001b[0mkey\u001b[0m\u001b[1;33m,\u001b[0m \u001b[0maxis\u001b[0m\u001b[1;33m=\u001b[0m\u001b[0maxis\u001b[0m\u001b[1;33m)\u001b[0m\u001b[1;33m\u001b[0m\u001b[0m\n\u001b[0m\u001b[0;32m   1099\u001b[0m         \u001b[1;32melse\u001b[0m\u001b[1;33m:\u001b[0m\u001b[1;33m\u001b[0m\u001b[0m\n\u001b[0;32m   1100\u001b[0m \u001b[1;33m\u001b[0m\u001b[0m\n",
      "\u001b[1;32mC:\\ProgramData\\Anaconda3\\lib\\site-packages\\pandas\\core\\indexing.py\u001b[0m in \u001b[0;36m_getitem_iterable\u001b[1;34m(self, key, axis)\u001b[0m\n\u001b[0;32m   1141\u001b[0m             \u001b[1;32mif\u001b[0m \u001b[0mlabels\u001b[0m\u001b[1;33m.\u001b[0m\u001b[0mis_unique\u001b[0m \u001b[1;32mand\u001b[0m \u001b[0mIndex\u001b[0m\u001b[1;33m(\u001b[0m\u001b[0mkeyarr\u001b[0m\u001b[1;33m)\u001b[0m\u001b[1;33m.\u001b[0m\u001b[0mis_unique\u001b[0m\u001b[1;33m:\u001b[0m\u001b[1;33m\u001b[0m\u001b[0m\n\u001b[0;32m   1142\u001b[0m                 \u001b[0mindexer\u001b[0m \u001b[1;33m=\u001b[0m \u001b[0max\u001b[0m\u001b[1;33m.\u001b[0m\u001b[0mget_indexer_for\u001b[0m\u001b[1;33m(\u001b[0m\u001b[0mkey\u001b[0m\u001b[1;33m)\u001b[0m\u001b[1;33m\u001b[0m\u001b[0m\n\u001b[1;32m-> 1143\u001b[1;33m                 \u001b[0mself\u001b[0m\u001b[1;33m.\u001b[0m\u001b[0m_validate_read_indexer\u001b[0m\u001b[1;33m(\u001b[0m\u001b[0mkey\u001b[0m\u001b[1;33m,\u001b[0m \u001b[0mindexer\u001b[0m\u001b[1;33m,\u001b[0m \u001b[0maxis\u001b[0m\u001b[1;33m)\u001b[0m\u001b[1;33m\u001b[0m\u001b[0m\n\u001b[0m\u001b[0;32m   1144\u001b[0m \u001b[1;33m\u001b[0m\u001b[0m\n\u001b[0;32m   1145\u001b[0m                 \u001b[0md\u001b[0m \u001b[1;33m=\u001b[0m \u001b[1;33m{\u001b[0m\u001b[0maxis\u001b[0m\u001b[1;33m:\u001b[0m \u001b[1;33m[\u001b[0m\u001b[0max\u001b[0m\u001b[1;33m.\u001b[0m\u001b[0mreindex\u001b[0m\u001b[1;33m(\u001b[0m\u001b[0mkeyarr\u001b[0m\u001b[1;33m)\u001b[0m\u001b[1;33m[\u001b[0m\u001b[1;36m0\u001b[0m\u001b[1;33m]\u001b[0m\u001b[1;33m,\u001b[0m \u001b[0mindexer\u001b[0m\u001b[1;33m]\u001b[0m\u001b[1;33m}\u001b[0m\u001b[1;33m\u001b[0m\u001b[0m\n",
      "\u001b[1;32mC:\\ProgramData\\Anaconda3\\lib\\site-packages\\pandas\\core\\indexing.py\u001b[0m in \u001b[0;36m_validate_read_indexer\u001b[1;34m(self, key, indexer, axis)\u001b[0m\n\u001b[0;32m   1204\u001b[0m                 raise KeyError(\n\u001b[0;32m   1205\u001b[0m                     u\"None of [{key}] are in the [{axis}]\".format(\n\u001b[1;32m-> 1206\u001b[1;33m                         key=key, axis=self.obj._get_axis_name(axis)))\n\u001b[0m\u001b[0;32m   1207\u001b[0m \u001b[1;33m\u001b[0m\u001b[0m\n\u001b[0;32m   1208\u001b[0m             \u001b[1;31m# we skip the warning on Categorical/Interval\u001b[0m\u001b[1;33m\u001b[0m\u001b[1;33m\u001b[0m\u001b[0m\n",
      "\u001b[1;31mKeyError\u001b[0m: \"None of [['father']] are in the [index]\""
     ]
    }
   ],
   "source": [
    "from __future__ import print_function\n",
    "\n",
    "print(\"Top terms per cluster:\")\n",
    "print()\n",
    "#sort cluster centers by proximity to centroid\n",
    "order_centroids = kmean.cluster_centers_.argsort()[:, ::-1] \n",
    "\n",
    "for i in range(5):\n",
    "    print(\"Cluster %d words:\" % i, end='')\n",
    "    \n",
    "    for ind in order_centroids[i, :6]: #replace 6 with n words per cluster\n",
    "        print(' %s' % vocab_frame.ix[terms[ind].split(' ')].values.tolist()[0][0].encode('utf-8', 'ignore'), end=',')\n",
    "    print() #add whitespace\n",
    "    print() #add whitespace\n",
    "    \n",
    "    print(\"Cluster %d titles:\" % i, end='')\n",
    "    for title in films.ix[i]['title'].values.tolist():\n",
    "        print(' %s,' % title, end='')\n",
    "    print() #add whitespace\n",
    "    print() #add whitespace\n",
    "    \n",
    "print()\n",
    "print()"
   ]
  },
  {
   "cell_type": "code",
   "execution_count": null,
   "metadata": {},
   "outputs": [],
   "source": []
  },
  {
   "cell_type": "code",
   "execution_count": null,
   "metadata": {},
   "outputs": [],
   "source": []
  },
  {
   "cell_type": "code",
   "execution_count": null,
   "metadata": {},
   "outputs": [],
   "source": []
  },
  {
   "cell_type": "code",
   "execution_count": null,
   "metadata": {},
   "outputs": [],
   "source": []
  },
  {
   "cell_type": "code",
   "execution_count": null,
   "metadata": {},
   "outputs": [],
   "source": []
  },
  {
   "cell_type": "code",
   "execution_count": null,
   "metadata": {},
   "outputs": [],
   "source": []
  },
  {
   "cell_type": "code",
   "execution_count": null,
   "metadata": {},
   "outputs": [],
   "source": []
  },
  {
   "cell_type": "code",
   "execution_count": null,
   "metadata": {},
   "outputs": [],
   "source": []
  },
  {
   "cell_type": "code",
   "execution_count": null,
   "metadata": {},
   "outputs": [],
   "source": []
  }
 ],
 "metadata": {
  "kernelspec": {
   "display_name": "Python 3",
   "language": "python",
   "name": "python3"
  },
  "language_info": {
   "codemirror_mode": {
    "name": "ipython",
    "version": 3
   },
   "file_extension": ".py",
   "mimetype": "text/x-python",
   "name": "python",
   "nbconvert_exporter": "python",
   "pygments_lexer": "ipython3",
   "version": "3.6.5"
  }
 },
 "nbformat": 4,
 "nbformat_minor": 2
}
